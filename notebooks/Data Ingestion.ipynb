{
 "cells": [
  {
   "cell_type": "code",
   "execution_count": null,
   "metadata": {},
   "outputs": [],
   "source": [
    "import sys  \n",
    "!{sys.executable} -m pip install pandas\n",
    "import pandas as pd\n",
    "# It started with a file called H-1B_Disclosure_Data_FY2019.xlsx\n",
    "# Then, I manually converted it to disclosure_2019.csv using LibreOffice Calc save as CSV\n",
    "sheet = pd.read_csv(\"../data/disclosure_2019.csv\")"
   ]
  },
  {
   "cell_type": "code",
   "execution_count": null,
   "metadata": {},
   "outputs": [],
   "source": [
    "PERSON_FIELDS = ['CASE_NUMBER', 'CASE_STATUS','VISA_CLASS', 'JOB_TITLE', 'FULL_TIME_POSITION', 'PERIOD_OF_EMPLOYMENT_START_DATE']\n",
    "EMPLOYER_FIELDS = ['EMPLOYER_NAME', 'PREVAILING_WAGE_1', 'EMPLOYER_CITY', 'EMPLOYER_STATE']"
   ]
  },
  {
   "cell_type": "code",
   "execution_count": null,
   "metadata": {},
   "outputs": [],
   "source": [
    "# SELECT some important fields\n",
    "cleaned_sheet = sheet[PERSON_FIELDS + EMPLOYER_FIELDS]\n",
    "cleaned_sheet = cleaned_sheet[cleaned_sheet['VISA_CLASS'] == 'H-1B']\n",
    "cleaned_sheet = cleaned_sheet[cleaned_sheet['PREVAILING_WAGE_1'].notnull()]\n",
    "cleaned_sheet = cleaned_sheet[cleaned_sheet['CASE_STATUS'] == 'CERTIFIED']\n",
    "cleaned_sheet = cleaned_sheet[cleaned_sheet['FULL_TIME_POSITION'] == 'Y']"
   ]
  },
  {
   "cell_type": "code",
   "execution_count": null,
   "metadata": {},
   "outputs": [],
   "source": [
    "import sqlite3\n",
    "import os\n",
    "# Make the file if it doesn't exist.\n",
    "if not os.path.exists('../data/salary.sqlite'):\n",
    "    os.mknod('../data/salary.sqlite')\n",
    "conn = sqlite3.connect('../data/salary.sqlite')\n",
    "cleaned_sheet.to_sql(name='salary', if_exists='replace', con=conn, index=False)"
   ]
  },
  {
   "cell_type": "code",
   "execution_count": null,
   "metadata": {},
   "outputs": [],
   "source": [
    "tempo = pd.read_sql(\"SELECT DISTINCT(EMPLOYER_NAME) FROM salary\", conn)\n",
    "boop = [x for x in tempo[\"EMPLOYER_NAME\"].tolist() if x and x[:2] == \"AF\"]\n",
    "another_query = pd.read_sql(\"SELECT * FROM salary WHERE EMPLOYER_NAME = 'AFFIRM, INC.'\", conn)"
   ]
  }
 ],
 "metadata": {
  "kernelspec": {
   "display_name": "Python 3",
   "language": "python",
   "name": "python3"
  },
  "language_info": {
   "codemirror_mode": {
    "name": "ipython",
    "version": 3
   },
   "file_extension": ".py",
   "mimetype": "text/x-python",
   "name": "python",
   "nbconvert_exporter": "python",
   "pygments_lexer": "ipython3",
   "version": "3.8.3"
  }
 },
 "nbformat": 4,
 "nbformat_minor": 2
}
